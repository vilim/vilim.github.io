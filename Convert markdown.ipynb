{
 "cells": [
  {
   "cell_type": "code",
   "execution_count": 5,
   "metadata": {},
   "outputs": [],
   "source": [
    "import markdown\n",
    "\n",
    "from markdown.extensions.toc import TocExtension"
   ]
  },
  {
   "cell_type": "code",
   "execution_count": 6,
   "metadata": {},
   "outputs": [],
   "source": [
    "out = markdown.markdown(open(\"abstracts.md\", \"r\", encoding=\"utf-8\").read(),\n",
    "                          output_format=\"html5\",\n",
    "                          extensions=[TocExtension()]);"
   ]
  },
  {
   "cell_type": "code",
   "execution_count": 7,
   "metadata": {},
   "outputs": [],
   "source": [
    "prefix = \"\"\"\n",
    "<!DOCTYPE html>\n",
    "<html>\n",
    "  <head>\n",
    "    <meta charset=\"utf-8\">\n",
    "    <title>Wire Up 2019 Abstracts</title>\n",
    "    <meta name=\"viewport\" content=\"width=device-width, initial-scale=1\">\n",
    "    <link href=\"https://fonts.googleapis.com/css?family=Open+Sans:400,700&amp;subset=latin-ext\" rel=\"stylesheet\">\n",
    "    <link rel=\"stylesheet\" href=\"style.css\">\n",
    "\n",
    "  </head>\n",
    "\n",
    "  <body>\n",
    "  <img src=\"cover.png\"  width=\"100%\" />\n",
    "    \n",
    "\"\"\"\n",
    "postfix = \"\"\"\n",
    "<img src=\"sponsors.png\" width=\"100%\"/>\n",
    "</body>\n",
    "</html>\n",
    "\n",
    "\"\"\""
   ]
  },
  {
   "cell_type": "code",
   "execution_count": 8,
   "metadata": {},
   "outputs": [],
   "source": [
    "with open(\"wireup.html\", \"w\", encoding=\"utf-8\") as f:\n",
    "    f.write(prefix)\n",
    "    f.write(out)\n",
    "    f.write(postfix)"
   ]
  },
  {
   "cell_type": "code",
   "execution_count": null,
   "metadata": {},
   "outputs": [],
   "source": []
  }
 ],
 "metadata": {
  "kernelspec": {
   "display_name": "Python 3",
   "language": "python",
   "name": "python3"
  },
  "language_info": {
   "codemirror_mode": {
    "name": "ipython",
    "version": 3
   },
   "file_extension": ".py",
   "mimetype": "text/x-python",
   "name": "python",
   "nbconvert_exporter": "python",
   "pygments_lexer": "ipython3",
   "version": "3.6.5"
  }
 },
 "nbformat": 4,
 "nbformat_minor": 2
}
